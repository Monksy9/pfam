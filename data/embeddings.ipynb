{
 "cells": [
  {
   "cell_type": "code",
   "execution_count": 16,
   "metadata": {},
   "outputs": [],
   "source": [
    "import load_data as ld\n",
    "\n",
    "Loader = ld.DataLoader()\n",
    "\n",
    "train_df, val_df, test_df = Loader.load_all_three_dfs(max_size=126171)"
   ]
  },
  {
   "cell_type": "code",
   "execution_count": 17,
   "metadata": {},
   "outputs": [],
   "source": [
    "embedder = pe.PretrainedEmbedder(\"esm1_t6_43M_UR50S\")"
   ]
  },
  {
   "cell_type": "code",
   "execution_count": 24,
   "metadata": {},
   "outputs": [
    {
     "name": "stderr",
     "output_type": "stream",
     "text": [
      "  0%|          | 250/126171 [01:05<10:16:43,  3.40it/s]"
     ]
    }
   ],
   "source": [
    "esm_train = embedder.embed_sequences(input_df=train_df)"
   ]
  },
  {
   "cell_type": "code",
   "execution_count": null,
   "metadata": {},
   "outputs": [],
   "source": [
    "esm_val= embedder.embed_sequences(input_df=val_df)\n",
    "esm_test = embedder.embed_sequences(input_df=test_df)"
   ]
  },
  {
   "cell_type": "code",
   "execution_count": null,
   "metadata": {},
   "outputs": [],
   "source": []
  }
 ],
 "metadata": {
  "kernelspec": {
   "display_name": "Python 3.7.15 ('bio-transformers-dev')",
   "language": "python",
   "name": "python3"
  },
  "language_info": {
   "codemirror_mode": {
    "name": "ipython",
    "version": 3
   },
   "file_extension": ".py",
   "mimetype": "text/x-python",
   "name": "python",
   "nbconvert_exporter": "python",
   "pygments_lexer": "ipython3",
   "version": "3.7.15"
  },
  "orig_nbformat": 4,
  "vscode": {
   "interpreter": {
    "hash": "1aea051c48384d42f3cd2821f5160bd4f5ac50c0b0768af144aa2bcfb045739b"
   }
  }
 },
 "nbformat": 4,
 "nbformat_minor": 2
}
